{
  "nbformat": 4,
  "nbformat_minor": 0,
  "metadata": {
    "colab": {
      "provenance": [],
      "gpuType": "T4"
    },
    "kernelspec": {
      "name": "python3",
      "display_name": "Python 3"
    },
    "language_info": {
      "name": "python"
    },
    "accelerator": "GPU"
  },
  "cells": [
    {
      "source": [
        "\n",
        "# IMPORTANT: RUN THIS CELL IN ORDER TO IMPORT YOUR KAGGLE DATA SOURCES\n",
        "# TO THE CORRECT LOCATION (/kaggle/input) IN YOUR NOTEBOOK,\n",
        "# THEN FEEL FREE TO DELETE THIS CELL.\n",
        "# NOTE: THIS NOTEBOOK ENVIRONMENT DIFFERS FROM KAGGLE'S PYTHON\n",
        "# ENVIRONMENT SO THERE MAY BE MISSING LIBRARIES USED BY YOUR\n",
        "# NOTEBOOK.\n",
        "\n",
        "import os\n",
        "import sys\n",
        "from tempfile import NamedTemporaryFile\n",
        "from urllib.request import urlopen\n",
        "from urllib.parse import unquote, urlparse\n",
        "from urllib.error import HTTPError\n",
        "from zipfile import ZipFile\n",
        "import tarfile\n",
        "import shutil\n",
        "\n",
        "CHUNK_SIZE = 40960\n",
        "DATA_SOURCE_MAPPING = 'leapgestrecog:https%3A%2F%2Fstorage.googleapis.com%2Fkaggle-data-sets%2F39466%2F61155%2Fbundle%2Farchive.zip%3FX-Goog-Algorithm%3DGOOG4-RSA-SHA256%26X-Goog-Credential%3Dgcp-kaggle-com%2540kaggle-161607.iam.gserviceaccount.com%252F20240704%252Fauto%252Fstorage%252Fgoog4_request%26X-Goog-Date%3D20240704T172320Z%26X-Goog-Expires%3D259200%26X-Goog-SignedHeaders%3Dhost%26X-Goog-Signature%3Da1222b2b873b9f52add41a25f3227d0f85bb790a10be122f82fdc704fdf958836f3b6f8845af8d8779d105a9147cd787341f492f797f5c1004a7b7a06a03dc36d75170b47885edbf62973b3becd6236d4c9a629101e786e506b02c35b07e2979058c71262421e2cc12085b866741f9527aa1cc798a36388da023d40c78979088760d9b3252f1266e3a1cd85bb8a0552d61ef3b8774ab5cc54fae9a2f30d30f9c5e6722ca358229b1fe0baa3925faf22c6c210a02b5cde69d9000b6a6782c4d47273c9936c970f6518e701a177a08077f3bb8698ee61701ca62e64b360459a3b686f11eb5c2a69762d4d17982b4bb28e853723882dcc4f6485d9ba522ddf88f09'\n",
        "\n",
        "KAGGLE_INPUT_PATH='/kaggle/input'\n",
        "KAGGLE_WORKING_PATH='/kaggle/working'\n",
        "KAGGLE_SYMLINK='kaggle'\n",
        "\n",
        "!umount /kaggle/input/ 2> /dev/null\n",
        "shutil.rmtree('/kaggle/input', ignore_errors=True)\n",
        "os.makedirs(KAGGLE_INPUT_PATH, 0o777, exist_ok=True)\n",
        "os.makedirs(KAGGLE_WORKING_PATH, 0o777, exist_ok=True)\n",
        "\n",
        "try:\n",
        "  os.symlink(KAGGLE_INPUT_PATH, os.path.join(\"..\", 'input'), target_is_directory=True)\n",
        "except FileExistsError:\n",
        "  pass\n",
        "try:\n",
        "  os.symlink(KAGGLE_WORKING_PATH, os.path.join(\"..\", 'working'), target_is_directory=True)\n",
        "except FileExistsError:\n",
        "  pass\n",
        "\n",
        "for data_source_mapping in DATA_SOURCE_MAPPING.split(','):\n",
        "    directory, download_url_encoded = data_source_mapping.split(':')\n",
        "    download_url = unquote(download_url_encoded)\n",
        "    filename = urlparse(download_url).path\n",
        "    destination_path = os.path.join(KAGGLE_INPUT_PATH, directory)\n",
        "    try:\n",
        "        with urlopen(download_url) as fileres, NamedTemporaryFile() as tfile:\n",
        "            total_length = fileres.headers['content-length']\n",
        "            print(f'Downloading {directory}, {total_length} bytes compressed')\n",
        "            dl = 0\n",
        "            data = fileres.read(CHUNK_SIZE)\n",
        "            while len(data) > 0:\n",
        "                dl += len(data)\n",
        "                tfile.write(data)\n",
        "                done = int(50 * dl / int(total_length))\n",
        "                sys.stdout.write(f\"\\r[{'=' * done}{' ' * (50-done)}] {dl} bytes downloaded\")\n",
        "                sys.stdout.flush()\n",
        "                data = fileres.read(CHUNK_SIZE)\n",
        "            if filename.endswith('.zip'):\n",
        "              with ZipFile(tfile) as zfile:\n",
        "                zfile.extractall(destination_path)\n",
        "            else:\n",
        "              with tarfile.open(tfile.name) as tarfile:\n",
        "                tarfile.extractall(destination_path)\n",
        "            print(f'\\nDownloaded and uncompressed: {directory}')\n",
        "    except HTTPError as e:\n",
        "        print(f'Failed to load (likely expired) {download_url} to path {destination_path}')\n",
        "        continue\n",
        "    except OSError as e:\n",
        "        print(f'Failed to load {download_url} to path {destination_path}')\n",
        "        continue\n",
        "\n",
        "print('Data source import complete.')\n"
      ],
      "metadata": {
        "id": "cpQ9KYhwxbaK",
        "colab": {
          "base_uri": "https://localhost:8080/"
        },
        "outputId": "9b577a4e-4437-4530-e5c3-b0de1cf2230e"
      },
      "cell_type": "code",
      "outputs": [
        {
          "output_type": "stream",
          "name": "stdout",
          "text": [
            "Downloading leapgestrecog, 2286085038 bytes compressed\n",
            "[==================================================] 2286085038 bytes downloaded\n",
            "Downloaded and uncompressed: leapgestrecog\n",
            "Data source import complete.\n"
          ]
        }
      ],
      "execution_count": 1
    },
    {
      "cell_type": "code",
      "source": [],
      "metadata": {
        "id": "-r9wgEjG14Wo"
      },
      "execution_count": 1,
      "outputs": []
    },
    {
      "cell_type": "code",
      "source": [
        "import os\n",
        "import numpy as np\n",
        "import tensorflow as tf\n",
        "from tensorflow.keras.preprocessing.image import ImageDataGenerator\n",
        "from tensorflow.keras.models import Sequential\n",
        "from tensorflow.keras.layers import Conv2D, MaxPooling2D, Flatten, Dense, Dropout\n"
      ],
      "metadata": {
        "_uuid": "8f2839f25d086af736a60e9eeb907d3b93b6e0e5",
        "_cell_guid": "b1076dfc-b9ad-4769-8c92-a6c4dae69d19",
        "execution": {
          "iopub.status.busy": "2024-07-04T17:18:02.565632Z",
          "iopub.execute_input": "2024-07-04T17:18:02.566287Z",
          "iopub.status.idle": "2024-07-04T17:18:02.57253Z",
          "shell.execute_reply.started": "2024-07-04T17:18:02.566259Z",
          "shell.execute_reply": "2024-07-04T17:18:02.571585Z"
        },
        "trusted": true,
        "id": "SuE4RdKZxbaP"
      },
      "execution_count": 2,
      "outputs": []
    },
    {
      "cell_type": "code",
      "source": [
        "DATASET_PATH = \"/kaggle/input/leapgestrecog/leapGestRecog\"\n",
        "batch_size = 32\n",
        "image_size = (128, 128)"
      ],
      "metadata": {
        "execution": {
          "iopub.status.busy": "2024-07-04T17:18:02.574762Z",
          "iopub.execute_input": "2024-07-04T17:18:02.575469Z",
          "iopub.status.idle": "2024-07-04T17:18:02.589768Z",
          "shell.execute_reply.started": "2024-07-04T17:18:02.575433Z",
          "shell.execute_reply": "2024-07-04T17:18:02.58872Z"
        },
        "trusted": true,
        "id": "GvoYubkRxbaP"
      },
      "execution_count": 3,
      "outputs": []
    },
    {
      "cell_type": "code",
      "source": [
        "datagen = ImageDataGenerator(\n",
        "    rescale=1./255,\n",
        "    shear_range=0.2,\n",
        "    zoom_range=0.2,\n",
        "    horizontal_flip=True,\n",
        "    validation_split=0.2  # Splitting 20% for validation\n",
        ")"
      ],
      "metadata": {
        "execution": {
          "iopub.status.busy": "2024-07-04T17:18:02.591134Z",
          "iopub.execute_input": "2024-07-04T17:18:02.591631Z",
          "iopub.status.idle": "2024-07-04T17:18:02.601513Z",
          "shell.execute_reply.started": "2024-07-04T17:18:02.591596Z",
          "shell.execute_reply": "2024-07-04T17:18:02.600667Z"
        },
        "trusted": true,
        "id": "_3toIR7FxbaQ"
      },
      "execution_count": 4,
      "outputs": []
    },
    {
      "cell_type": "code",
      "source": [
        "generator = datagen.flow_from_directory(\n",
        "    DATASET_PATH,\n",
        "    target_size=image_size,\n",
        "    batch_size=batch_size,\n",
        "    class_mode='categorical',\n",
        "    subset='training'  # Specify 'training' or 'validation' for either subset\n",
        ")"
      ],
      "metadata": {
        "colab": {
          "base_uri": "https://localhost:8080/"
        },
        "id": "ib5n62PXfXdC",
        "outputId": "7670cfc9-98fb-48e8-a761-9a5945f2b1c0"
      },
      "execution_count": 5,
      "outputs": [
        {
          "output_type": "stream",
          "name": "stdout",
          "text": [
            "Found 16000 images belonging to 10 classes.\n"
          ]
        }
      ]
    },
    {
      "cell_type": "code",
      "source": [
        "validation_generator = datagen.flow_from_directory(\n",
        "    DATASET_PATH,\n",
        "    target_size=image_size,\n",
        "    batch_size=batch_size,\n",
        "    class_mode='categorical',\n",
        "    subset='validation'\n",
        ")"
      ],
      "metadata": {
        "execution": {
          "iopub.status.busy": "2024-07-04T17:18:02.602664Z",
          "iopub.execute_input": "2024-07-04T17:18:02.602946Z",
          "iopub.status.idle": "2024-07-04T17:18:02.682832Z",
          "shell.execute_reply.started": "2024-07-04T17:18:02.602922Z",
          "shell.execute_reply": "2024-07-04T17:18:02.681772Z"
        },
        "trusted": true,
        "id": "kHg1gltKxbaQ",
        "colab": {
          "base_uri": "https://localhost:8080/"
        },
        "outputId": "53859c22-343b-4574-892b-040755ce3019"
      },
      "execution_count": 6,
      "outputs": [
        {
          "output_type": "stream",
          "name": "stdout",
          "text": [
            "Found 4000 images belonging to 10 classes.\n"
          ]
        }
      ]
    },
    {
      "cell_type": "code",
      "source": [
        "model = Sequential([\n",
        "    Conv2D(32, (3, 3), activation='relu', input_shape=(image_size[0], image_size[1], 3)),\n",
        "    MaxPooling2D((2, 2)),\n",
        "    Conv2D(64, (3, 3), activation='relu'),\n",
        "    MaxPooling2D((2, 2)),\n",
        "    Conv2D(128, (3, 3), activation='relu'),\n",
        "    MaxPooling2D((2, 2)),\n",
        "    Conv2D(128, (3, 3), activation='relu'),\n",
        "    MaxPooling2D((2, 2)),\n",
        "    Flatten(),\n",
        "    Dropout(0.5),\n",
        "    Dense(512, activation='relu'),\n",
        "    Dense(10, activation='softmax')\n",
        "])\n",
        "\n",
        "model.summary()\n"
      ],
      "metadata": {
        "colab": {
          "base_uri": "https://localhost:8080/"
        },
        "id": "wVUpmNJUd-zC",
        "outputId": "4fb311b8-65cc-47e6-c282-a89c247deb2a"
      },
      "execution_count": 7,
      "outputs": [
        {
          "output_type": "stream",
          "name": "stdout",
          "text": [
            "Model: \"sequential\"\n",
            "_________________________________________________________________\n",
            " Layer (type)                Output Shape              Param #   \n",
            "=================================================================\n",
            " conv2d (Conv2D)             (None, 126, 126, 32)      896       \n",
            "                                                                 \n",
            " max_pooling2d (MaxPooling2  (None, 63, 63, 32)        0         \n",
            " D)                                                              \n",
            "                                                                 \n",
            " conv2d_1 (Conv2D)           (None, 61, 61, 64)        18496     \n",
            "                                                                 \n",
            " max_pooling2d_1 (MaxPoolin  (None, 30, 30, 64)        0         \n",
            " g2D)                                                            \n",
            "                                                                 \n",
            " conv2d_2 (Conv2D)           (None, 28, 28, 128)       73856     \n",
            "                                                                 \n",
            " max_pooling2d_2 (MaxPoolin  (None, 14, 14, 128)       0         \n",
            " g2D)                                                            \n",
            "                                                                 \n",
            " conv2d_3 (Conv2D)           (None, 12, 12, 128)       147584    \n",
            "                                                                 \n",
            " max_pooling2d_3 (MaxPoolin  (None, 6, 6, 128)         0         \n",
            " g2D)                                                            \n",
            "                                                                 \n",
            " flatten (Flatten)           (None, 4608)              0         \n",
            "                                                                 \n",
            " dropout (Dropout)           (None, 4608)              0         \n",
            "                                                                 \n",
            " dense (Dense)               (None, 512)               2359808   \n",
            "                                                                 \n",
            " dense_1 (Dense)             (None, 10)                5130      \n",
            "                                                                 \n",
            "=================================================================\n",
            "Total params: 2605770 (9.94 MB)\n",
            "Trainable params: 2605770 (9.94 MB)\n",
            "Non-trainable params: 0 (0.00 Byte)\n",
            "_________________________________________________________________\n"
          ]
        }
      ]
    },
    {
      "cell_type": "code",
      "source": [
        "model.compile(optimizer='adam',\n",
        "              loss='categorical_crossentropy',\n",
        "              metrics=['accuracy'])\n",
        "\n",
        "epochs = 30"
      ],
      "metadata": {
        "id": "V22Y1WwheNcj"
      },
      "execution_count": 8,
      "outputs": []
    },
    {
      "cell_type": "code",
      "source": [
        "history = model.fit(\n",
        "    generator,\n",
        "\n",
        "    epochs=epochs,\n",
        "    validation_data=validation_generator,\n",
        ")"
      ],
      "metadata": {
        "colab": {
          "base_uri": "https://localhost:8080/"
        },
        "id": "OrQ6JJ40eOT1",
        "outputId": "673382e7-c54a-40ae-b5e3-94e89885dfa7"
      },
      "execution_count": 9,
      "outputs": [
        {
          "output_type": "stream",
          "name": "stdout",
          "text": [
            "Epoch 1/30\n",
            "500/500 [==============================] - 147s 280ms/step - loss: 0.6561 - accuracy: 0.7624 - val_loss: 1.6049 - val_accuracy: 0.6618\n",
            "Epoch 2/30\n",
            "500/500 [==============================] - 117s 234ms/step - loss: 0.1089 - accuracy: 0.9613 - val_loss: 1.8616 - val_accuracy: 0.7335\n",
            "Epoch 3/30\n",
            "500/500 [==============================] - 135s 270ms/step - loss: 0.0655 - accuracy: 0.9747 - val_loss: 1.0760 - val_accuracy: 0.7660\n",
            "Epoch 4/30\n",
            "500/500 [==============================] - 115s 229ms/step - loss: 0.0480 - accuracy: 0.9790 - val_loss: 1.1992 - val_accuracy: 0.7987\n",
            "Epoch 5/30\n",
            "500/500 [==============================] - 116s 232ms/step - loss: 0.0478 - accuracy: 0.9791 - val_loss: 1.4164 - val_accuracy: 0.7865\n",
            "Epoch 6/30\n",
            "500/500 [==============================] - 117s 233ms/step - loss: 0.0465 - accuracy: 0.9793 - val_loss: 0.7811 - val_accuracy: 0.8440\n",
            "Epoch 7/30\n",
            "500/500 [==============================] - 120s 240ms/step - loss: 0.0379 - accuracy: 0.9814 - val_loss: 1.1904 - val_accuracy: 0.8192\n",
            "Epoch 8/30\n",
            "500/500 [==============================] - 118s 236ms/step - loss: 0.0382 - accuracy: 0.9842 - val_loss: 0.9169 - val_accuracy: 0.8418\n",
            "Epoch 9/30\n",
            "500/500 [==============================] - 134s 268ms/step - loss: 0.0299 - accuracy: 0.9856 - val_loss: 0.8174 - val_accuracy: 0.8335\n",
            "Epoch 10/30\n",
            "500/500 [==============================] - 115s 229ms/step - loss: 0.0387 - accuracy: 0.9813 - val_loss: 1.1277 - val_accuracy: 0.8405\n",
            "Epoch 11/30\n",
            "500/500 [==============================] - 115s 230ms/step - loss: 0.0339 - accuracy: 0.9833 - val_loss: 0.6955 - val_accuracy: 0.8522\n",
            "Epoch 12/30\n",
            "500/500 [==============================] - 114s 228ms/step - loss: 0.0284 - accuracy: 0.9851 - val_loss: 0.5694 - val_accuracy: 0.8737\n",
            "Epoch 13/30\n",
            "500/500 [==============================] - 115s 229ms/step - loss: 0.0293 - accuracy: 0.9850 - val_loss: 0.6260 - val_accuracy: 0.8765\n",
            "Epoch 14/30\n",
            "500/500 [==============================] - 114s 228ms/step - loss: 0.0289 - accuracy: 0.9855 - val_loss: 0.4571 - val_accuracy: 0.8813\n",
            "Epoch 15/30\n",
            "500/500 [==============================] - 115s 230ms/step - loss: 0.0303 - accuracy: 0.9853 - val_loss: 0.8709 - val_accuracy: 0.8553\n",
            "Epoch 16/30\n",
            "500/500 [==============================] - 115s 230ms/step - loss: 0.0292 - accuracy: 0.9861 - val_loss: 0.7908 - val_accuracy: 0.8528\n",
            "Epoch 17/30\n",
            "500/500 [==============================] - 115s 230ms/step - loss: 0.0234 - accuracy: 0.9868 - val_loss: 0.7694 - val_accuracy: 0.8540\n",
            "Epoch 18/30\n",
            "500/500 [==============================] - 114s 228ms/step - loss: 0.0270 - accuracy: 0.9857 - val_loss: 1.1005 - val_accuracy: 0.8475\n",
            "Epoch 19/30\n",
            "500/500 [==============================] - 135s 269ms/step - loss: 0.0232 - accuracy: 0.9869 - val_loss: 1.3030 - val_accuracy: 0.8210\n",
            "Epoch 20/30\n",
            "500/500 [==============================] - 114s 229ms/step - loss: 0.0267 - accuracy: 0.9849 - val_loss: 0.7057 - val_accuracy: 0.8710\n",
            "Epoch 21/30\n",
            "500/500 [==============================] - 121s 242ms/step - loss: 0.0296 - accuracy: 0.9861 - val_loss: 1.1895 - val_accuracy: 0.8407\n",
            "Epoch 22/30\n",
            "500/500 [==============================] - 121s 242ms/step - loss: 0.0304 - accuracy: 0.9849 - val_loss: 0.9583 - val_accuracy: 0.8447\n",
            "Epoch 23/30\n",
            "500/500 [==============================] - 121s 242ms/step - loss: 0.0249 - accuracy: 0.9870 - val_loss: 0.8479 - val_accuracy: 0.8618\n",
            "Epoch 24/30\n",
            "500/500 [==============================] - 124s 249ms/step - loss: 0.0197 - accuracy: 0.9884 - val_loss: 0.8396 - val_accuracy: 0.8612\n",
            "Epoch 25/30\n",
            "500/500 [==============================] - 121s 242ms/step - loss: 0.0201 - accuracy: 0.9881 - val_loss: 0.6888 - val_accuracy: 0.8680\n",
            "Epoch 26/30\n",
            "500/500 [==============================] - 121s 242ms/step - loss: 0.0242 - accuracy: 0.9872 - val_loss: 0.7368 - val_accuracy: 0.8655\n",
            "Epoch 27/30\n",
            "500/500 [==============================] - 125s 250ms/step - loss: 0.0237 - accuracy: 0.9869 - val_loss: 0.8237 - val_accuracy: 0.8445\n",
            "Epoch 28/30\n",
            "500/500 [==============================] - 119s 238ms/step - loss: 0.0257 - accuracy: 0.9877 - val_loss: 0.8466 - val_accuracy: 0.8725\n",
            "Epoch 29/30\n",
            "500/500 [==============================] - 123s 246ms/step - loss: 0.0222 - accuracy: 0.9874 - val_loss: 0.7106 - val_accuracy: 0.8773\n",
            "Epoch 30/30\n",
            "500/500 [==============================] - 117s 234ms/step - loss: 0.0327 - accuracy: 0.9852 - val_loss: 1.0191 - val_accuracy: 0.8680\n"
          ]
        }
      ]
    },
    {
      "cell_type": "code",
      "source": [
        "test_loss, test_acc = model.evaluate(validation_generator, verbose=2)\n",
        "print('\\nValidation accuracy:', test_acc)"
      ],
      "metadata": {
        "colab": {
          "base_uri": "https://localhost:8080/"
        },
        "id": "glOrKWTWeRXY",
        "outputId": "6d75280a-f3b1-48b3-abf8-a6328e70658f"
      },
      "execution_count": 10,
      "outputs": [
        {
          "output_type": "stream",
          "name": "stdout",
          "text": [
            "125/125 - 22s - loss: 0.9695 - accuracy: 0.8658 - 22s/epoch - 175ms/step\n",
            "\n",
            "Validation accuracy: 0.8657500147819519\n"
          ]
        }
      ]
    },
    {
      "cell_type": "code",
      "source": [
        "from sklearn.metrics import confusion_matrix\n",
        "import matplotlib.pyplot as plt\n",
        "import seaborn as sns\n",
        "y_pred = model.predict(validation_generator)\n",
        "\n",
        "# Convert the one-hot encoded predictions to class labels\n",
        "y_pred_classes = np.argmax(y_pred, axis=1)\n",
        "\n",
        "# Convert the one-hot encoded true labels to class labels\n",
        "y_true_classes = validation_generator.classes\n",
        "emotion_labels = list(validation_generator.class_indices.keys())\n",
        "\n",
        "# Create a confusion matrix\n",
        "cm = confusion_matrix(y_true_classes, y_pred_classes)\n",
        "\n",
        "# Plotting the Confusion Matrix\n",
        "plt.figure(figsize=(8, 6))\n",
        "sns.heatmap(cm, annot=True, fmt='d', cmap='Blues', xticklabels=emotion_labels, yticklabels=emotion_labels)\n",
        "plt.xlabel('Predicted')\n",
        "plt.ylabel('True')\n",
        "plt.title('Confusion Matrix')\n",
        "plt.show()\n"
      ],
      "metadata": {
        "id": "VncFOyG5mxBE",
        "colab": {
          "base_uri": "https://localhost:8080/",
          "height": 581
        },
        "outputId": "9ef9b311-eb2a-48de-8439-361a467c3c6e"
      },
      "execution_count": 13,
      "outputs": [
        {
          "output_type": "stream",
          "name": "stdout",
          "text": [
            "125/125 [==============================] - 32s 260ms/step\n"
          ]
        },
        {
          "output_type": "display_data",
          "data": {
            "text/plain": [
              "<Figure size 800x600 with 2 Axes>"
            ],
            "image/png": "[encoded data removed]"
          },
          "metadata": {}
        }
      ]
    },
    {
      "cell_type": "code",
      "source": [
        "from sklearn.metrics import classification_report\n",
        "# Load the test dataset\n",
        "X_test, y_test = [], []\n",
        "for i in range(len(validation_generator)):\n",
        "    batch_X, batch_y = validation_generator[i]\n",
        "    X_test.append(batch_X)\n",
        "    y_test.append(batch_y)\n",
        "X_test = np.concatenate(X_test)\n",
        "y_test = np.concatenate(y_test)\n",
        "\n",
        "# Make predictions on the test set\n",
        "y_pred = model.predict(X_test)\n",
        "\n",
        "# Convert the one-hot encoded predictions to class labels\n",
        "y_pred_classes = np.argmax(y_pred, axis=1)\n",
        "\n",
        "# Convert the one-hot encoded true labels to class labels\n",
        "y_true_classes = np.argmax(y_test, axis=1)\n",
        "\n",
        "# Create a classification report\n",
        "report = classification_report(y_true_classes, y_pred_classes)\n",
        "\n",
        "print(report)"
      ],
      "metadata": {
        "colab": {
          "base_uri": "https://localhost:8080/"
        },
        "id": "fida_OtjmyXM",
        "outputId": "821c8911-d84c-4dc4-c526-a63b696e2de3"
      },
      "execution_count": 12,
      "outputs": [
        {
          "metadata": {
            "tags": null
          },
          "name": "stdout",
          "output_type": "stream",
          "text": [
            "125/125 [==============================] - 1s 7ms/step\n",
            "              precision    recall  f1-score   support\n",
            "\n",
            "           0       0.92      0.99      0.96       400\n",
            "           1       1.00      1.00      1.00       400\n",
            "           2       0.93      0.98      0.96       400\n",
            "           3       0.86      0.97      0.91       400\n",
            "           4       0.78      0.73      0.75       400\n",
            "           5       1.00      0.99      0.99       400\n",
            "           6       0.67      0.97      0.79       400\n",
            "           7       0.89      0.78      0.83       400\n",
            "           8       1.00      0.23      0.37       400\n",
            "           9       0.80      1.00      0.89       400\n",
            "\n",
            "    accuracy                           0.87      4000\n",
            "   macro avg       0.89      0.87      0.85      4000\n",
            "weighted avg       0.89      0.87      0.85      4000\n",
            "\n"
          ]
        }
      ]
    }
  ]
}