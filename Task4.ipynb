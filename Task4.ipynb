{
  "nbformat": 4,
  "nbformat_minor": 0,
  "metadata": {
    "colab": {
      "provenance": [],
      "gpuType": "T4"
    },
    "kernelspec": {
      "name": "python3",
      "display_name": "Python 3"
    },
    "language_info": {
      "name": "python"
    },
    "accelerator": "GPU"
  },
  "cells": [
    {
      "source": [
        "\n",
        "# IMPORTANT: RUN THIS CELL IN ORDER TO IMPORT YOUR KAGGLE DATA SOURCES\n",
        "# TO THE CORRECT LOCATION (/kaggle/input) IN YOUR NOTEBOOK,\n",
        "# THEN FEEL FREE TO DELETE THIS CELL.\n",
        "# NOTE: THIS NOTEBOOK ENVIRONMENT DIFFERS FROM KAGGLE'S PYTHON\n",
        "# ENVIRONMENT SO THERE MAY BE MISSING LIBRARIES USED BY YOUR\n",
        "# NOTEBOOK.\n",
        "\n",
        "import os\n",
        "import sys\n",
        "from tempfile import NamedTemporaryFile\n",
        "from urllib.request import urlopen\n",
        "from urllib.parse import unquote, urlparse\n",
        "from urllib.error import HTTPError\n",
        "from zipfile import ZipFile\n",
        "import tarfile\n",
        "import shutil\n",
        "\n",
        "CHUNK_SIZE = 40960\n",
        "DATA_SOURCE_MAPPING = 'leapgestrecog:https%3A%2F%2Fstorage.googleapis.com%2Fkaggle-data-sets%2F39466%2F61155%2Fbundle%2Farchive.zip%3FX-Goog-Algorithm%3DGOOG4-RSA-SHA256%26X-Goog-Credential%3Dgcp-kaggle-com%2540kaggle-161607.iam.gserviceaccount.com%252F20240704%252Fauto%252Fstorage%252Fgoog4_request%26X-Goog-Date%3D20240704T172320Z%26X-Goog-Expires%3D259200%26X-Goog-SignedHeaders%3Dhost%26X-Goog-Signature%3Da1222b2b873b9f52add41a25f3227d0f85bb790a10be122f82fdc704fdf958836f3b6f8845af8d8779d105a9147cd787341f492f797f5c1004a7b7a06a03dc36d75170b47885edbf62973b3becd6236d4c9a629101e786e506b02c35b07e2979058c71262421e2cc12085b866741f9527aa1cc798a36388da023d40c78979088760d9b3252f1266e3a1cd85bb8a0552d61ef3b8774ab5cc54fae9a2f30d30f9c5e6722ca358229b1fe0baa3925faf22c6c210a02b5cde69d9000b6a6782c4d47273c9936c970f6518e701a177a08077f3bb8698ee61701ca62e64b360459a3b686f11eb5c2a69762d4d17982b4bb28e853723882dcc4f6485d9ba522ddf88f09'\n",
        "\n",
        "KAGGLE_INPUT_PATH='/kaggle/input'\n",
        "KAGGLE_WORKING_PATH='/kaggle/working'\n",
        "KAGGLE_SYMLINK='kaggle'\n",
        "\n",
        "!umount /kaggle/input/ 2> /dev/null\n",
        "shutil.rmtree('/kaggle/input', ignore_errors=True)\n",
        "os.makedirs(KAGGLE_INPUT_PATH, 0o777, exist_ok=True)\n",
        "os.makedirs(KAGGLE_WORKING_PATH, 0o777, exist_ok=True)\n",
        "\n",
        "try:\n",
        "  os.symlink(KAGGLE_INPUT_PATH, os.path.join(\"..\", 'input'), target_is_directory=True)\n",
        "except FileExistsError:\n",
        "  pass\n",
        "try:\n",
        "  os.symlink(KAGGLE_WORKING_PATH, os.path.join(\"..\", 'working'), target_is_directory=True)\n",
        "except FileExistsError:\n",
        "  pass\n",
        "\n",
        "for data_source_mapping in DATA_SOURCE_MAPPING.split(','):\n",
        "    directory, download_url_encoded = data_source_mapping.split(':')\n",
        "    download_url = unquote(download_url_encoded)\n",
        "    filename = urlparse(download_url).path\n",
        "    destination_path = os.path.join(KAGGLE_INPUT_PATH, directory)\n",
        "    try:\n",
        "        with urlopen(download_url) as fileres, NamedTemporaryFile() as tfile:\n",
        "            total_length = fileres.headers['content-length']\n",
        "            print(f'Downloading {directory}, {total_length} bytes compressed')\n",
        "            dl = 0\n",
        "            data = fileres.read(CHUNK_SIZE)\n",
        "            while len(data) > 0:\n",
        "                dl += len(data)\n",
        "                tfile.write(data)\n",
        "                done = int(50 * dl / int(total_length))\n",
        "                sys.stdout.write(f\"\\r[{'=' * done}{' ' * (50-done)}] {dl} bytes downloaded\")\n",
        "                sys.stdout.flush()\n",
        "                data = fileres.read(CHUNK_SIZE)\n",
        "            if filename.endswith('.zip'):\n",
        "              with ZipFile(tfile) as zfile:\n",
        "                zfile.extractall(destination_path)\n",
        "            else:\n",
        "              with tarfile.open(tfile.name) as tarfile:\n",
        "                tarfile.extractall(destination_path)\n",
        "            print(f'\\nDownloaded and uncompressed: {directory}')\n",
        "    except HTTPError as e:\n",
        "        print(f'Failed to load (likely expired) {download_url} to path {destination_path}')\n",
        "        continue\n",
        "    except OSError as e:\n",
        "        print(f'Failed to load {download_url} to path {destination_path}')\n",
        "        continue\n",
        "\n",
        "print('Data source import complete.')\n"
      ],
      "metadata": {
        "id": "cpQ9KYhwxbaK",
        "colab": {
          "base_uri": "https://localhost:8080/"
        },
        "outputId": "30208e60-84fb-406f-8a2a-57fb3412ca0a"
      },
      "cell_type": "code",
      "outputs": [
        {
          "output_type": "stream",
          "name": "stdout",
          "text": [
            "Downloading leapgestrecog, 2286085038 bytes compressed\n",
            "[==================================================] 2286085038 bytes downloaded\n",
            "Downloaded and uncompressed: leapgestrecog\n",
            "Data source import complete.\n"
          ]
        }
      ],
      "execution_count": 1
    },
    {
      "cell_type": "code",
      "source": [],
      "metadata": {
        "id": "-r9wgEjG14Wo"
      },
      "execution_count": 1,
      "outputs": []
    },
    {
      "cell_type": "code",
      "source": [
        "import os\n",
        "import numpy as np\n",
        "import tensorflow as tf\n",
        "from tensorflow.keras.preprocessing.image import ImageDataGenerator\n",
        "from tensorflow.keras.models import Sequential\n",
        "from tensorflow.keras.layers import Conv2D, MaxPooling2D, Flatten, Dense, Dropout\n"
      ],
      "metadata": {
        "_uuid": "8f2839f25d086af736a60e9eeb907d3b93b6e0e5",
        "_cell_guid": "b1076dfc-b9ad-4769-8c92-a6c4dae69d19",
        "execution": {
          "iopub.status.busy": "2024-07-04T17:18:02.565632Z",
          "iopub.execute_input": "2024-07-04T17:18:02.566287Z",
          "iopub.status.idle": "2024-07-04T17:18:02.57253Z",
          "shell.execute_reply.started": "2024-07-04T17:18:02.566259Z",
          "shell.execute_reply": "2024-07-04T17:18:02.571585Z"
        },
        "trusted": true,
        "id": "SuE4RdKZxbaP"
      },
      "execution_count": 2,
      "outputs": []
    },
    {
      "cell_type": "code",
      "source": [
        "DATASET_PATH = \"/kaggle/input/leapgestrecog/leapGestRecog\"\n",
        "batch_size = 32\n",
        "image_size = (128, 128)"
      ],
      "metadata": {
        "execution": {
          "iopub.status.busy": "2024-07-04T17:18:02.574762Z",
          "iopub.execute_input": "2024-07-04T17:18:02.575469Z",
          "iopub.status.idle": "2024-07-04T17:18:02.589768Z",
          "shell.execute_reply.started": "2024-07-04T17:18:02.575433Z",
          "shell.execute_reply": "2024-07-04T17:18:02.58872Z"
        },
        "trusted": true,
        "id": "GvoYubkRxbaP"
      },
      "execution_count": 3,
      "outputs": []
    },
    {
      "cell_type": "code",
      "source": [
        "datagen = ImageDataGenerator(\n",
        "    rescale=1./255,\n",
        "    shear_range=0.2,\n",
        "    zoom_range=0.2,\n",
        "    horizontal_flip=True,\n",
        "    validation_split=0.2  # Splitting 20% for validation\n",
        ")"
      ],
      "metadata": {
        "execution": {
          "iopub.status.busy": "2024-07-04T17:18:02.591134Z",
          "iopub.execute_input": "2024-07-04T17:18:02.591631Z",
          "iopub.status.idle": "2024-07-04T17:18:02.601513Z",
          "shell.execute_reply.started": "2024-07-04T17:18:02.591596Z",
          "shell.execute_reply": "2024-07-04T17:18:02.600667Z"
        },
        "trusted": true,
        "id": "_3toIR7FxbaQ"
      },
      "execution_count": 4,
      "outputs": []
    },
    {
      "cell_type": "code",
      "source": [
        "generator = datagen.flow_from_directory(\n",
        "    DATASET_PATH,\n",
        "    target_size=image_size,\n",
        "    batch_size=batch_size,\n",
        "    class_mode='categorical',\n",
        "    subset='training'  # Specify 'training' or 'validation' for either subset\n",
        ")"
      ],
      "metadata": {
        "colab": {
          "base_uri": "https://localhost:8080/"
        },
        "id": "ib5n62PXfXdC",
        "outputId": "789bb6f2-ae08-4a37-8c39-2d011fce5fc6"
      },
      "execution_count": 11,
      "outputs": [
        {
          "output_type": "stream",
          "name": "stdout",
          "text": [
            "Found 16000 images belonging to 10 classes.\n"
          ]
        }
      ]
    },
    {
      "cell_type": "code",
      "source": [
        "validation_generator = datagen.flow_from_directory(\n",
        "    DATASET_PATH,\n",
        "    target_size=image_size,\n",
        "    batch_size=batch_size,\n",
        "    class_mode='categorical',\n",
        "    subset='validation'\n",
        ")"
      ],
      "metadata": {
        "execution": {
          "iopub.status.busy": "2024-07-04T17:18:02.602664Z",
          "iopub.execute_input": "2024-07-04T17:18:02.602946Z",
          "iopub.status.idle": "2024-07-04T17:18:02.682832Z",
          "shell.execute_reply.started": "2024-07-04T17:18:02.602922Z",
          "shell.execute_reply": "2024-07-04T17:18:02.681772Z"
        },
        "trusted": true,
        "id": "kHg1gltKxbaQ",
        "colab": {
          "base_uri": "https://localhost:8080/"
        },
        "outputId": "928d7c45-24ee-42d1-c181-88f84db84fe7"
      },
      "execution_count": 12,
      "outputs": [
        {
          "output_type": "stream",
          "name": "stdout",
          "text": [
            "Found 4000 images belonging to 10 classes.\n"
          ]
        }
      ]
    },
    {
      "cell_type": "code",
      "source": [
        "model = Sequential([\n",
        "    Conv2D(32, (3, 3), activation='relu', input_shape=(image_size[0], image_size[1], 3)),\n",
        "    MaxPooling2D((2, 2)),\n",
        "    Conv2D(64, (3, 3), activation='relu'),\n",
        "    MaxPooling2D((2, 2)),\n",
        "    Conv2D(128, (3, 3), activation='relu'),\n",
        "    MaxPooling2D((2, 2)),\n",
        "    Conv2D(128, (3, 3), activation='relu'),\n",
        "    MaxPooling2D((2, 2)),\n",
        "    Flatten(),\n",
        "    Dropout(0.5),\n",
        "    Dense(512, activation='relu'),\n",
        "    Dense(10, activation='softmax')\n",
        "])\n",
        "\n",
        "model.summary()\n"
      ],
      "metadata": {
        "colab": {
          "base_uri": "https://localhost:8080/"
        },
        "id": "wVUpmNJUd-zC",
        "outputId": "5fb20c74-d3d3-483d-d82e-c3196e105f09"
      },
      "execution_count": 13,
      "outputs": [
        {
          "output_type": "stream",
          "name": "stdout",
          "text": [
            "Model: \"sequential_2\"\n",
            "_________________________________________________________________\n",
            " Layer (type)                Output Shape              Param #   \n",
            "=================================================================\n",
            " conv2d_12 (Conv2D)          (None, 126, 126, 32)      896       \n",
            "                                                                 \n",
            " max_pooling2d_12 (MaxPooli  (None, 63, 63, 32)        0         \n",
            " ng2D)                                                           \n",
            "                                                                 \n",
            " conv2d_13 (Conv2D)          (None, 61, 61, 64)        18496     \n",
            "                                                                 \n",
            " max_pooling2d_13 (MaxPooli  (None, 30, 30, 64)        0         \n",
            " ng2D)                                                           \n",
            "                                                                 \n",
            " conv2d_14 (Conv2D)          (None, 28, 28, 128)       73856     \n",
            "                                                                 \n",
            " max_pooling2d_14 (MaxPooli  (None, 14, 14, 128)       0         \n",
            " ng2D)                                                           \n",
            "                                                                 \n",
            " conv2d_15 (Conv2D)          (None, 12, 12, 128)       147584    \n",
            "                                                                 \n",
            " max_pooling2d_15 (MaxPooli  (None, 6, 6, 128)         0         \n",
            " ng2D)                                                           \n",
            "                                                                 \n",
            " flatten_3 (Flatten)         (None, 4608)              0         \n",
            "                                                                 \n",
            " dropout_3 (Dropout)         (None, 4608)              0         \n",
            "                                                                 \n",
            " dense_5 (Dense)             (None, 512)               2359808   \n",
            "                                                                 \n",
            " dense_6 (Dense)             (None, 10)                5130      \n",
            "                                                                 \n",
            "=================================================================\n",
            "Total params: 2605770 (9.94 MB)\n",
            "Trainable params: 2605770 (9.94 MB)\n",
            "Non-trainable params: 0 (0.00 Byte)\n",
            "_________________________________________________________________\n"
          ]
        }
      ]
    },
    {
      "cell_type": "code",
      "source": [
        "model.compile(optimizer='adam',\n",
        "              loss='categorical_crossentropy',\n",
        "              metrics=['accuracy'])\n",
        "\n",
        "epochs = 30"
      ],
      "metadata": {
        "id": "V22Y1WwheNcj"
      },
      "execution_count": 14,
      "outputs": []
    },
    {
      "cell_type": "code",
      "source": [
        "history = model.fit(\n",
        "    generator,\n",
        "    steps_per_epoch=generator.samples // batch_size,\n",
        "    epochs=epochs,\n",
        "    validation_data=validation_generator,\n",
        "    validation_steps=validation_generator.samples // batch_size\n",
        ")"
      ],
      "metadata": {
        "colab": {
          "base_uri": "https://localhost:8080/"
        },
        "id": "OrQ6JJ40eOT1",
        "outputId": "5c5b3273-0fc8-48e9-ed55-ed306854a90f"
      },
      "execution_count": 15,
      "outputs": [
        {
          "output_type": "stream",
          "name": "stdout",
          "text": [
            "Epoch 1/30\n",
            "500/500 [==============================] - 134s 252ms/step - loss: 0.7049 - accuracy: 0.7487 - val_loss: 1.8347 - val_accuracy: 0.6313\n",
            "Epoch 2/30\n",
            "500/500 [==============================] - 116s 231ms/step - loss: 0.0998 - accuracy: 0.9629 - val_loss: 1.8891 - val_accuracy: 0.7362\n",
            "Epoch 3/30\n",
            "500/500 [==============================] - 117s 235ms/step - loss: 0.0672 - accuracy: 0.9736 - val_loss: 1.4432 - val_accuracy: 0.7343\n",
            "Epoch 4/30\n",
            "500/500 [==============================] - 115s 230ms/step - loss: 0.0470 - accuracy: 0.9784 - val_loss: 2.5128 - val_accuracy: 0.6793\n",
            "Epoch 5/30\n",
            "500/500 [==============================] - 117s 235ms/step - loss: 0.0440 - accuracy: 0.9806 - val_loss: 2.1467 - val_accuracy: 0.6888\n",
            "Epoch 6/30\n",
            "500/500 [==============================] - 117s 234ms/step - loss: 0.0399 - accuracy: 0.9799 - val_loss: 1.7825 - val_accuracy: 0.7258\n",
            "Epoch 7/30\n",
            "500/500 [==============================] - 116s 232ms/step - loss: 0.0390 - accuracy: 0.9819 - val_loss: 1.2385 - val_accuracy: 0.7935\n",
            "Epoch 8/30\n",
            "500/500 [==============================] - 117s 233ms/step - loss: 0.0394 - accuracy: 0.9807 - val_loss: 1.6292 - val_accuracy: 0.7790\n",
            "Epoch 9/30\n",
            "500/500 [==============================] - 116s 233ms/step - loss: 0.0368 - accuracy: 0.9834 - val_loss: 2.1400 - val_accuracy: 0.6942\n",
            "Epoch 10/30\n",
            "500/500 [==============================] - 136s 273ms/step - loss: 0.0341 - accuracy: 0.9839 - val_loss: 1.5793 - val_accuracy: 0.7747\n",
            "Epoch 11/30\n",
            "500/500 [==============================] - 118s 235ms/step - loss: 0.0286 - accuracy: 0.9856 - val_loss: 0.9277 - val_accuracy: 0.8413\n",
            "Epoch 12/30\n",
            "500/500 [==============================] - 116s 231ms/step - loss: 0.0336 - accuracy: 0.9838 - val_loss: 0.7416 - val_accuracy: 0.8648\n",
            "Epoch 13/30\n",
            "500/500 [==============================] - 118s 236ms/step - loss: 0.0283 - accuracy: 0.9867 - val_loss: 0.9825 - val_accuracy: 0.8175\n",
            "Epoch 14/30\n",
            "500/500 [==============================] - 116s 232ms/step - loss: 0.0234 - accuracy: 0.9872 - val_loss: 1.0907 - val_accuracy: 0.8213\n",
            "Epoch 15/30\n",
            "500/500 [==============================] - 116s 233ms/step - loss: 0.0387 - accuracy: 0.9830 - val_loss: 1.1670 - val_accuracy: 0.7997\n",
            "Epoch 16/30\n",
            "500/500 [==============================] - 135s 269ms/step - loss: 0.0263 - accuracy: 0.9844 - val_loss: 0.7273 - val_accuracy: 0.8512\n",
            "Epoch 17/30\n",
            "500/500 [==============================] - 116s 233ms/step - loss: 0.0195 - accuracy: 0.9874 - val_loss: 1.5693 - val_accuracy: 0.7657\n",
            "Epoch 18/30\n",
            "500/500 [==============================] - 117s 234ms/step - loss: 0.0298 - accuracy: 0.9859 - val_loss: 0.6786 - val_accuracy: 0.8590\n",
            "Epoch 19/30\n",
            "500/500 [==============================] - 116s 232ms/step - loss: 0.0234 - accuracy: 0.9874 - val_loss: 0.8287 - val_accuracy: 0.8422\n",
            "Epoch 20/30\n",
            "500/500 [==============================] - 115s 230ms/step - loss: 0.0187 - accuracy: 0.9888 - val_loss: 0.9780 - val_accuracy: 0.8365\n",
            "Epoch 21/30\n",
            "500/500 [==============================] - 116s 232ms/step - loss: 0.0332 - accuracy: 0.9837 - val_loss: 1.5092 - val_accuracy: 0.7625\n",
            "Epoch 22/30\n",
            "500/500 [==============================] - 117s 235ms/step - loss: 0.0296 - accuracy: 0.9850 - val_loss: 1.1743 - val_accuracy: 0.8342\n",
            "Epoch 23/30\n",
            "500/500 [==============================] - 117s 234ms/step - loss: 0.0283 - accuracy: 0.9849 - val_loss: 0.8731 - val_accuracy: 0.7977\n",
            "Epoch 24/30\n",
            "500/500 [==============================] - 136s 271ms/step - loss: 0.0259 - accuracy: 0.9866 - val_loss: 1.0840 - val_accuracy: 0.8325\n",
            "Epoch 25/30\n",
            "500/500 [==============================] - 117s 234ms/step - loss: 0.0227 - accuracy: 0.9888 - val_loss: 1.2412 - val_accuracy: 0.8375\n",
            "Epoch 26/30\n",
            "500/500 [==============================] - 116s 232ms/step - loss: 0.0191 - accuracy: 0.9883 - val_loss: 0.8267 - val_accuracy: 0.8430\n",
            "Epoch 27/30\n",
            "500/500 [==============================] - 116s 233ms/step - loss: 0.0210 - accuracy: 0.9879 - val_loss: 0.9372 - val_accuracy: 0.8388\n",
            "Epoch 28/30\n",
            "500/500 [==============================] - 133s 267ms/step - loss: 0.0198 - accuracy: 0.9881 - val_loss: 0.6422 - val_accuracy: 0.8683\n",
            "Epoch 29/30\n",
            "500/500 [==============================] - 115s 231ms/step - loss: 0.0254 - accuracy: 0.9876 - val_loss: 0.8636 - val_accuracy: 0.8378\n",
            "Epoch 30/30\n",
            "500/500 [==============================] - 116s 231ms/step - loss: 0.0210 - accuracy: 0.9883 - val_loss: 0.6416 - val_accuracy: 0.8648\n"
          ]
        }
      ]
    },
    {
      "cell_type": "code",
      "source": [
        "test_loss, test_acc = model.evaluate(validation_generator, verbose=2)\n",
        "print('\\nValidation accuracy:', test_acc)"
      ],
      "metadata": {
        "colab": {
          "base_uri": "https://localhost:8080/"
        },
        "id": "glOrKWTWeRXY",
        "outputId": "f08191e7-01d8-4125-d65f-fc2b6b588115"
      },
      "execution_count": 16,
      "outputs": [
        {
          "output_type": "stream",
          "name": "stdout",
          "text": [
            "125/125 - 22s - loss: 0.6491 - accuracy: 0.8630 - 22s/epoch - 178ms/step\n",
            "\n",
            "Validation accuracy: 0.8629999756813049\n"
          ]
        }
      ]
    },
    {
      "cell_type": "code",
      "source": [
        "from sklearn.metrics import confusion_matrix\n",
        "import matplotlib.pyplot as plt\n",
        "import seaborn as sns\n",
        "y_pred = model.predict(validation_generator)\n",
        "\n",
        "# Convert the one-hot encoded predictions to class labels\n",
        "y_pred_classes = np.argmax(y_pred, axis=1)\n",
        "\n",
        "# Convert the one-hot encoded true labels to class labels\n",
        "y_true_classes = validation_generator.classes\n",
        "emotion_labels = list(validation_generator.class_indices.keys())\n",
        "\n",
        "# Create a confusion matrix\n",
        "cm = confusion_matrix(y_true_classes, y_pred_classes)\n",
        "\n",
        "# Plotting the Confusion Matrix\n",
        "plt.figure(figsize=(8, 6))\n",
        "sns.heatmap(cm, annot=True, fmt='d', cmap='Blues', xticklabels=emotion_labels, yticklabels=emotion_labels)\n",
        "plt.xlabel('Predicted')\n",
        "plt.ylabel('True')\n",
        "plt.title('Confusion Matrix')\n",
        "plt.show()\n"
      ],
      "metadata": {
        "colab": {
          "base_uri": "https://localhost:8080/",
          "height": 581
        },
        "id": "VncFOyG5mxBE",
        "outputId": "e0ecbee6-1755-4eca-d173-c26fdf9645d7"
      },
      "execution_count": 21,
      "outputs": [
        {
          "output_type": "stream",
          "name": "stdout",
          "text": [
            "125/125 [==============================] - 23s 185ms/step\n"
          ]
        },
        {
          "output_type": "display_data",
          "data": {
            "text/plain": [
              "<Figure size 800x600 with 2 Axes>"
            ],
            "image/png": "[encoded data removed]"
          },
          "metadata": {}
        }
      ]
    }
  ]
}