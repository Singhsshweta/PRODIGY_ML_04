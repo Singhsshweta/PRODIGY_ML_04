{
  "nbformat": 4,
  "nbformat_minor": 0,
  "metadata": {
    "colab": {
      "provenance": [],
      "gpuType": "T4"
    },
    "kernelspec": {
      "name": "python3",
      "display_name": "Python 3"
    },
    "language_info": {
      "name": "python"
    },
    "accelerator": "GPU"
  },
  "cells": [
    {
      "cell_type": "code",
      "execution_count": null,
      "metadata": {
        "id": "iWfAEZfdxJtJ"
      },
      "outputs": [],
      "source": []
    },
    {
      "source": [
        "\n",
        "# IMPORTANT: RUN THIS CELL IN ORDER TO IMPORT YOUR KAGGLE DATA SOURCES\n",
        "# TO THE CORRECT LOCATION (/kaggle/input) IN YOUR NOTEBOOK,\n",
        "# THEN FEEL FREE TO DELETE THIS CELL.\n",
        "# NOTE: THIS NOTEBOOK ENVIRONMENT DIFFERS FROM KAGGLE'S PYTHON\n",
        "# ENVIRONMENT SO THERE MAY BE MISSING LIBRARIES USED BY YOUR\n",
        "# NOTEBOOK.\n",
        "\n",
        "import os\n",
        "import sys\n",
        "from tempfile import NamedTemporaryFile\n",
        "from urllib.request import urlopen\n",
        "from urllib.parse import unquote, urlparse\n",
        "from urllib.error import HTTPError\n",
        "from zipfile import ZipFile\n",
        "import tarfile\n",
        "import shutil\n",
        "\n",
        "CHUNK_SIZE = 40960\n",
        "DATA_SOURCE_MAPPING = 'leapgestrecog:https%3A%2F%2Fstorage.googleapis.com%2Fkaggle-data-sets%2F39466%2F61155%2Fbundle%2Farchive.zip%3FX-Goog-Algorithm%3DGOOG4-RSA-SHA256%26X-Goog-Credential%3Dgcp-kaggle-com%2540kaggle-161607.iam.gserviceaccount.com%252F20240704%252Fauto%252Fstorage%252Fgoog4_request%26X-Goog-Date%3D20240704T172320Z%26X-Goog-Expires%3D259200%26X-Goog-SignedHeaders%3Dhost%26X-Goog-Signature%3Da1222b2b873b9f52add41a25f3227d0f85bb790a10be122f82fdc704fdf958836f3b6f8845af8d8779d105a9147cd787341f492f797f5c1004a7b7a06a03dc36d75170b47885edbf62973b3becd6236d4c9a629101e786e506b02c35b07e2979058c71262421e2cc12085b866741f9527aa1cc798a36388da023d40c78979088760d9b3252f1266e3a1cd85bb8a0552d61ef3b8774ab5cc54fae9a2f30d30f9c5e6722ca358229b1fe0baa3925faf22c6c210a02b5cde69d9000b6a6782c4d47273c9936c970f6518e701a177a08077f3bb8698ee61701ca62e64b360459a3b686f11eb5c2a69762d4d17982b4bb28e853723882dcc4f6485d9ba522ddf88f09'\n",
        "\n",
        "KAGGLE_INPUT_PATH='/kaggle/input'\n",
        "KAGGLE_WORKING_PATH='/kaggle/working'\n",
        "KAGGLE_SYMLINK='kaggle'\n",
        "\n",
        "!umount /kaggle/input/ 2> /dev/null\n",
        "shutil.rmtree('/kaggle/input', ignore_errors=True)\n",
        "os.makedirs(KAGGLE_INPUT_PATH, 0o777, exist_ok=True)\n",
        "os.makedirs(KAGGLE_WORKING_PATH, 0o777, exist_ok=True)\n",
        "\n",
        "try:\n",
        "  os.symlink(KAGGLE_INPUT_PATH, os.path.join(\"..\", 'input'), target_is_directory=True)\n",
        "except FileExistsError:\n",
        "  pass\n",
        "try:\n",
        "  os.symlink(KAGGLE_WORKING_PATH, os.path.join(\"..\", 'working'), target_is_directory=True)\n",
        "except FileExistsError:\n",
        "  pass\n",
        "\n",
        "for data_source_mapping in DATA_SOURCE_MAPPING.split(','):\n",
        "    directory, download_url_encoded = data_source_mapping.split(':')\n",
        "    download_url = unquote(download_url_encoded)\n",
        "    filename = urlparse(download_url).path\n",
        "    destination_path = os.path.join(KAGGLE_INPUT_PATH, directory)\n",
        "    try:\n",
        "        with urlopen(download_url) as fileres, NamedTemporaryFile() as tfile:\n",
        "            total_length = fileres.headers['content-length']\n",
        "            print(f'Downloading {directory}, {total_length} bytes compressed')\n",
        "            dl = 0\n",
        "            data = fileres.read(CHUNK_SIZE)\n",
        "            while len(data) > 0:\n",
        "                dl += len(data)\n",
        "                tfile.write(data)\n",
        "                done = int(50 * dl / int(total_length))\n",
        "                sys.stdout.write(f\"\\r[{'=' * done}{' ' * (50-done)}] {dl} bytes downloaded\")\n",
        "                sys.stdout.flush()\n",
        "                data = fileres.read(CHUNK_SIZE)\n",
        "            if filename.endswith('.zip'):\n",
        "              with ZipFile(tfile) as zfile:\n",
        "                zfile.extractall(destination_path)\n",
        "            else:\n",
        "              with tarfile.open(tfile.name) as tarfile:\n",
        "                tarfile.extractall(destination_path)\n",
        "            print(f'\\nDownloaded and uncompressed: {directory}')\n",
        "    except HTTPError as e:\n",
        "        print(f'Failed to load (likely expired) {download_url} to path {destination_path}')\n",
        "        continue\n",
        "    except OSError as e:\n",
        "        print(f'Failed to load {download_url} to path {destination_path}')\n",
        "        continue\n",
        "\n",
        "print('Data source import complete.')\n"
      ],
      "metadata": {
        "id": "cpQ9KYhwxbaK",
        "colab": {
          "base_uri": "https://localhost:8080/"
        },
        "outputId": "1b55ed80-3f37-42a1-8f5a-67e0789602e1"
      },
      "cell_type": "code",
      "outputs": [
        {
          "output_type": "stream",
          "name": "stdout",
          "text": [
            "Downloading leapgestrecog, 2286085038 bytes compressed\n",
            "[==================================================] 2286085038 bytes downloaded\n",
            "Downloaded and uncompressed: leapgestrecog\n",
            "Data source import complete.\n"
          ]
        }
      ],
      "execution_count": null
    },
    {
      "cell_type": "code",
      "source": [],
      "metadata": {
        "id": "-r9wgEjG14Wo"
      },
      "execution_count": null,
      "outputs": []
    },
    {
      "cell_type": "code",
      "source": [
        "import os\n",
        "import numpy as np\n",
        "import tensorflow as tf\n",
        "from tensorflow.keras.preprocessing.image import ImageDataGenerator\n",
        "from tensorflow.keras.models import Sequential\n",
        "from tensorflow.keras.layers import Conv2D, MaxPooling2D, Flatten, Dense, Dropout\n"
      ],
      "metadata": {
        "_uuid": "8f2839f25d086af736a60e9eeb907d3b93b6e0e5",
        "_cell_guid": "b1076dfc-b9ad-4769-8c92-a6c4dae69d19",
        "execution": {
          "iopub.status.busy": "2024-07-04T17:18:02.565632Z",
          "iopub.execute_input": "2024-07-04T17:18:02.566287Z",
          "iopub.status.idle": "2024-07-04T17:18:02.57253Z",
          "shell.execute_reply.started": "2024-07-04T17:18:02.566259Z",
          "shell.execute_reply": "2024-07-04T17:18:02.571585Z"
        },
        "trusted": true,
        "id": "SuE4RdKZxbaP"
      },
      "execution_count": null,
      "outputs": []
    },
    {
      "cell_type": "code",
      "source": [
        "DATASET_PATH = \"/kaggle/input/leapgestrecog/leapGestRecog\"\n",
        "batch_size = 32\n",
        "image_size = (128, 128)"
      ],
      "metadata": {
        "execution": {
          "iopub.status.busy": "2024-07-04T17:18:02.574762Z",
          "iopub.execute_input": "2024-07-04T17:18:02.575469Z",
          "iopub.status.idle": "2024-07-04T17:18:02.589768Z",
          "shell.execute_reply.started": "2024-07-04T17:18:02.575433Z",
          "shell.execute_reply": "2024-07-04T17:18:02.58872Z"
        },
        "trusted": true,
        "id": "GvoYubkRxbaP"
      },
      "execution_count": null,
      "outputs": []
    },
    {
      "cell_type": "code",
      "source": [
        "datagen = ImageDataGenerator(\n",
        "    rescale=1./255,\n",
        "    shear_range=0.2,\n",
        "    zoom_range=0.2,\n",
        "    horizontal_flip=True,\n",
        "    validation_split=0.2  # Splitting 20% for validation\n",
        ")"
      ],
      "metadata": {
        "execution": {
          "iopub.status.busy": "2024-07-04T17:18:02.591134Z",
          "iopub.execute_input": "2024-07-04T17:18:02.591631Z",
          "iopub.status.idle": "2024-07-04T17:18:02.601513Z",
          "shell.execute_reply.started": "2024-07-04T17:18:02.591596Z",
          "shell.execute_reply": "2024-07-04T17:18:02.600667Z"
        },
        "trusted": true,
        "id": "_3toIR7FxbaQ"
      },
      "execution_count": null,
      "outputs": []
    },
    {
      "cell_type": "code",
      "source": [
        "generator = datagen.flow_from_directory(\n",
        "    DATASET_PATH,\n",
        "    target_size=image_size,\n",
        "    batch_size=batch_size,\n",
        "    class_mode='categorical',\n",
        "    subset='training'  # Specify 'training' or 'validation' for either subset\n",
        ")"
      ],
      "metadata": {
        "colab": {
          "base_uri": "https://localhost:8080/"
        },
        "id": "ib5n62PXfXdC",
        "outputId": "d75930d1-32db-4b28-9d8b-6ce24e019bd8"
      },
      "execution_count": null,
      "outputs": [
        {
          "output_type": "stream",
          "name": "stdout",
          "text": [
            "Found 16000 images belonging to 10 classes.\n"
          ]
        }
      ]
    },
    {
      "cell_type": "code",
      "source": [
        "validation_generator = datagen.flow_from_directory(\n",
        "    DATASET_PATH,\n",
        "    target_size=image_size,\n",
        "    batch_size=batch_size,\n",
        "    class_mode='categorical',\n",
        "    subset='validation'\n",
        ")"
      ],
      "metadata": {
        "execution": {
          "iopub.status.busy": "2024-07-04T17:18:02.602664Z",
          "iopub.execute_input": "2024-07-04T17:18:02.602946Z",
          "iopub.status.idle": "2024-07-04T17:18:02.682832Z",
          "shell.execute_reply.started": "2024-07-04T17:18:02.602922Z",
          "shell.execute_reply": "2024-07-04T17:18:02.681772Z"
        },
        "trusted": true,
        "id": "kHg1gltKxbaQ",
        "colab": {
          "base_uri": "https://localhost:8080/"
        },
        "outputId": "f38075ec-2255-4822-c514-2a057bcf0b13"
      },
      "execution_count": null,
      "outputs": [
        {
          "output_type": "stream",
          "name": "stdout",
          "text": [
            "Found 4000 images belonging to 10 classes.\n"
          ]
        }
      ]
    },
    {
      "cell_type": "code",
      "source": [
        "model = Sequential([\n",
        "    Conv2D(32, (3, 3), activation='relu', input_shape=(image_size[0], image_size[1], 3)),\n",
        "    MaxPooling2D((2, 2)),\n",
        "    Conv2D(64, (3, 3), activation='relu'),\n",
        "    MaxPooling2D((2, 2)),\n",
        "    Conv2D(128, (3, 3), activation='relu'),\n",
        "    MaxPooling2D((2, 2)),\n",
        "    Conv2D(128, (3, 3), activation='relu'),\n",
        "    MaxPooling2D((2, 2)),\n",
        "    Flatten(),\n",
        "    Dropout(0.5),\n",
        "    Dense(512, activation='relu'),\n",
        "    Dense(10, activation='softmax')\n",
        "])\n",
        "\n",
        "model.summary()\n"
      ],
      "metadata": {
        "colab": {
          "base_uri": "https://localhost:8080/"
        },
        "id": "wVUpmNJUd-zC",
        "outputId": "92ed6516-65a6-4b23-8fb7-5deeffaece66"
      },
      "execution_count": null,
      "outputs": [
        {
          "output_type": "stream",
          "name": "stdout",
          "text": [
            "Model: \"sequential\"\n",
            "_________________________________________________________________\n",
            " Layer (type)                Output Shape              Param #   \n",
            "=================================================================\n",
            " conv2d (Conv2D)             (None, 126, 126, 32)      896       \n",
            "                                                                 \n",
            " max_pooling2d (MaxPooling2  (None, 63, 63, 32)        0         \n",
            " D)                                                              \n",
            "                                                                 \n",
            " conv2d_1 (Conv2D)           (None, 61, 61, 64)        18496     \n",
            "                                                                 \n",
            " max_pooling2d_1 (MaxPoolin  (None, 30, 30, 64)        0         \n",
            " g2D)                                                            \n",
            "                                                                 \n",
            " conv2d_2 (Conv2D)           (None, 28, 28, 128)       73856     \n",
            "                                                                 \n",
            " max_pooling2d_2 (MaxPoolin  (None, 14, 14, 128)       0         \n",
            " g2D)                                                            \n",
            "                                                                 \n",
            " conv2d_3 (Conv2D)           (None, 12, 12, 128)       147584    \n",
            "                                                                 \n",
            " max_pooling2d_3 (MaxPoolin  (None, 6, 6, 128)         0         \n",
            " g2D)                                                            \n",
            "                                                                 \n",
            " flatten (Flatten)           (None, 4608)              0         \n",
            "                                                                 \n",
            " dropout (Dropout)           (None, 4608)              0         \n",
            "                                                                 \n",
            " dense (Dense)               (None, 512)               2359808   \n",
            "                                                                 \n",
            " dense_1 (Dense)             (None, 10)                5130      \n",
            "                                                                 \n",
            "=================================================================\n",
            "Total params: 2605770 (9.94 MB)\n",
            "Trainable params: 2605770 (9.94 MB)\n",
            "Non-trainable params: 0 (0.00 Byte)\n",
            "_________________________________________________________________\n"
          ]
        }
      ]
    },
    {
      "cell_type": "code",
      "source": [
        "model.compile(optimizer='adam',\n",
        "              loss='categorical_crossentropy',\n",
        "              metrics=['accuracy'])\n",
        "\n",
        "epochs = 30"
      ],
      "metadata": {
        "id": "V22Y1WwheNcj"
      },
      "execution_count": null,
      "outputs": []
    },
    {
      "cell_type": "code",
      "source": [
        "history = model.fit(\n",
        "    generator,\n",
        "\n",
        "    epochs=epochs,\n",
        "    validation_data=validation_generator,\n",
        ")"
      ],
      "metadata": {
        "colab": {
          "base_uri": "https://localhost:8080/"
        },
        "id": "OrQ6JJ40eOT1",
        "outputId": "6e349016-bc53-4f27-ca88-572faf2635c0"
      },
      "execution_count": null,
      "outputs": [
        {
          "output_type": "stream",
          "name": "stdout",
          "text": [
            "Epoch 1/30\n",
            "500/500 [==============================] - 146s 276ms/step - loss: 0.7071 - accuracy: 0.7482 - val_loss: 1.4939 - val_accuracy: 0.6833\n",
            "Epoch 2/30\n",
            "500/500 [==============================] - 124s 248ms/step - loss: 0.1085 - accuracy: 0.9582 - val_loss: 2.1458 - val_accuracy: 0.6173\n",
            "Epoch 3/30\n",
            "500/500 [==============================] - 113s 227ms/step - loss: 0.0569 - accuracy: 0.9774 - val_loss: 1.9155 - val_accuracy: 0.7380\n",
            "Epoch 4/30\n",
            "500/500 [==============================] - 114s 228ms/step - loss: 0.0572 - accuracy: 0.9749 - val_loss: 1.7064 - val_accuracy: 0.6970\n",
            "Epoch 5/30\n",
            "500/500 [==============================] - 133s 265ms/step - loss: 0.0412 - accuracy: 0.9814 - val_loss: 2.0572 - val_accuracy: 0.7255\n",
            "Epoch 6/30\n",
            "500/500 [==============================] - 114s 228ms/step - loss: 0.0408 - accuracy: 0.9800 - val_loss: 1.5819 - val_accuracy: 0.7283\n",
            "Epoch 7/30\n",
            "500/500 [==============================] - 114s 228ms/step - loss: 0.0346 - accuracy: 0.9835 - val_loss: 1.5383 - val_accuracy: 0.7715\n",
            "Epoch 8/30\n",
            "500/500 [==============================] - 113s 227ms/step - loss: 0.0390 - accuracy: 0.9800 - val_loss: 1.6744 - val_accuracy: 0.7970\n",
            "Epoch 9/30\n",
            "500/500 [==============================] - 114s 227ms/step - loss: 0.0359 - accuracy: 0.9839 - val_loss: 1.3005 - val_accuracy: 0.7548\n",
            "Epoch 10/30\n",
            "500/500 [==============================] - 113s 227ms/step - loss: 0.0414 - accuracy: 0.9809 - val_loss: 1.0236 - val_accuracy: 0.8010\n",
            "Epoch 11/30\n",
            "500/500 [==============================] - 134s 268ms/step - loss: 0.0294 - accuracy: 0.9857 - val_loss: 1.4392 - val_accuracy: 0.7900\n",
            "Epoch 12/30\n",
            "500/500 [==============================] - 113s 226ms/step - loss: 0.0272 - accuracy: 0.9871 - val_loss: 1.7903 - val_accuracy: 0.7790\n",
            "Epoch 13/30\n",
            "500/500 [==============================] - 113s 227ms/step - loss: 0.0279 - accuracy: 0.9852 - val_loss: 1.6094 - val_accuracy: 0.7610\n",
            "Epoch 14/30\n",
            "500/500 [==============================] - 114s 227ms/step - loss: 0.0360 - accuracy: 0.9839 - val_loss: 0.9012 - val_accuracy: 0.8380\n",
            "Epoch 15/30\n",
            "500/500 [==============================] - 115s 229ms/step - loss: 0.0236 - accuracy: 0.9866 - val_loss: 0.8179 - val_accuracy: 0.8487\n",
            "Epoch 16/30\n",
            "500/500 [==============================] - 113s 227ms/step - loss: 0.0227 - accuracy: 0.9871 - val_loss: 0.9875 - val_accuracy: 0.8292\n",
            "Epoch 17/30\n",
            "500/500 [==============================] - 113s 227ms/step - loss: 0.0285 - accuracy: 0.9864 - val_loss: 0.9499 - val_accuracy: 0.8290\n",
            "Epoch 18/30\n",
            "500/500 [==============================] - 113s 227ms/step - loss: 0.0302 - accuracy: 0.9852 - val_loss: 1.5558 - val_accuracy: 0.8033\n",
            "Epoch 19/30\n",
            "500/500 [==============================] - 114s 227ms/step - loss: 0.0278 - accuracy: 0.9851 - val_loss: 1.0346 - val_accuracy: 0.8188\n",
            "Epoch 20/30\n",
            "500/500 [==============================] - 113s 226ms/step - loss: 0.0233 - accuracy: 0.9875 - val_loss: 1.3083 - val_accuracy: 0.8037\n",
            "Epoch 21/30\n",
            "500/500 [==============================] - 113s 227ms/step - loss: 0.0305 - accuracy: 0.9850 - val_loss: 1.2064 - val_accuracy: 0.8240\n",
            "Epoch 22/30\n",
            "500/500 [==============================] - 114s 227ms/step - loss: 0.0265 - accuracy: 0.9860 - val_loss: 0.8953 - val_accuracy: 0.8468\n",
            "Epoch 23/30\n",
            "500/500 [==============================] - 114s 228ms/step - loss: 0.0212 - accuracy: 0.9869 - val_loss: 1.4018 - val_accuracy: 0.7950\n",
            "Epoch 24/30\n",
            "500/500 [==============================] - 114s 228ms/step - loss: 0.0235 - accuracy: 0.9874 - val_loss: 1.4920 - val_accuracy: 0.8338\n",
            "Epoch 25/30\n",
            "500/500 [==============================] - 114s 229ms/step - loss: 0.0238 - accuracy: 0.9881 - val_loss: 1.9098 - val_accuracy: 0.7912\n",
            "Epoch 26/30\n",
            "500/500 [==============================] - 133s 267ms/step - loss: 0.0282 - accuracy: 0.9871 - val_loss: 1.3061 - val_accuracy: 0.8440\n",
            "Epoch 27/30\n",
            "500/500 [==============================] - 114s 229ms/step - loss: 0.0234 - accuracy: 0.9865 - val_loss: 1.2111 - val_accuracy: 0.8425\n",
            "Epoch 28/30\n",
            "500/500 [==============================] - 115s 230ms/step - loss: 0.0232 - accuracy: 0.9869 - val_loss: 1.0687 - val_accuracy: 0.8493\n",
            "Epoch 29/30\n",
            "500/500 [==============================] - 115s 230ms/step - loss: 0.0243 - accuracy: 0.9862 - val_loss: 1.8221 - val_accuracy: 0.7630\n",
            "Epoch 30/30\n",
            "500/500 [==============================] - ETA: 0s - loss: 0.0221 - accuracy: 0.9874"
          ]
        }
      ]
    },
    {
      "cell_type": "code",
      "source": [
        "test_loss, test_acc = model.evaluate(validation_generator, verbose=2)\n",
        "print('\\nValidation accuracy:', test_acc)"
      ],
      "metadata": {
        "colab": {
          "base_uri": "https://localhost:8080/"
        },
        "id": "glOrKWTWeRXY",
        "outputId": "7de95060-478d-4dbb-9ecf-44f4caf25065"
      },
      "execution_count": null,
      "outputs": [
        {
          "output_type": "stream",
          "name": "stdout",
          "text": [
            "125/125 - 22s - loss: 0.9889 - accuracy: 0.8530 - 22s/epoch - 178ms/step\n",
            "\n",
            "Validation accuracy: 0.8529999852180481\n"
          ]
        }
      ]
    },
    {
      "cell_type": "code",
      "source": [
        "from sklearn.metrics import classification_report\n",
        "# Load the test dataset\n",
        "X_test, y_test = [], []\n",
        "for i in range(len(validation_generator)):\n",
        "    batch_X, batch_y = validation_generator[i]\n",
        "    X_test.append(batch_X)\n",
        "    y_test.append(batch_y)\n",
        "X_test = np.concatenate(X_test)\n",
        "y_test = np.concatenate(y_test)\n",
        "\n",
        "# Make predictions on the test set\n",
        "y_pred = model.predict(X_test)\n",
        "\n",
        "# Convert the one-hot encoded predictions to class labels\n",
        "y_pred_classes = np.argmax(y_pred, axis=1)\n",
        "\n",
        "# Convert the one-hot encoded true labels to class labels\n",
        "y_true_classes = np.argmax(y_test, axis=1)\n",
        "\n",
        "# Create a classification report\n",
        "report = classification_report(y_true_classes, y_pred_classes)\n",
        "\n",
        "print(report)"
      ],
      "metadata": {
        "colab": {
          "base_uri": "https://localhost:8080/"
        },
        "id": "fida_OtjmyXM",
        "outputId": "7d9d3593-828f-4c17-c326-b520fe778ce3"
      },
      "execution_count": null,
      "outputs": [
        {
          "metadata": {
            "tags": null
          },
          "name": "stdout",
          "output_type": "stream",
          "text": [
            "125/125 [==============================] - 1s 7ms/step\n",
            "              precision    recall  f1-score   support\n",
            "\n",
            "           0       0.86      0.97      0.92       400\n",
            "           1       1.00      1.00      1.00       400\n",
            "           2       0.96      0.99      0.97       400\n",
            "           3       0.99      1.00      0.99       400\n",
            "           4       0.68      0.57      0.62       400\n",
            "           5       0.93      1.00      0.96       400\n",
            "           6       0.63      0.94      0.75       400\n",
            "           7       0.90      0.77      0.83       400\n",
            "           8       0.87      0.28      0.42       400\n",
            "           9       0.79      0.99      0.88       400\n",
            "\n",
            "    accuracy                           0.85      4000\n",
            "   macro avg       0.86      0.85      0.83      4000\n",
            "weighted avg       0.86      0.85      0.83      4000\n",
            "\n"
          ]
        }
      ]
    }
  ]
}